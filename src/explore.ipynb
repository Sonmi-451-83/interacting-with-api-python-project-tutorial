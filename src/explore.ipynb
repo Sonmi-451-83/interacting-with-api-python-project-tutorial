{
    "cells": [
        {
            "cell_type": "markdown",
            "metadata": {},
            "source": [
                "# Explore here"
            ]
        },
        {
            "cell_type": "code",
            "execution_count": 1,
            "metadata": {},
            "outputs": [
                {
                    "data": {
                        "text/plain": [
                            "True"
                        ]
                    },
                    "execution_count": 1,
                    "metadata": {},
                    "output_type": "execute_result"
                }
            ],
            "source": [
                "import os\n",
                "import pandas as pd\n",
                "import seaborn as sns\n",
                "from dotenv import load_dotenv\n",
                "import spotipy\n",
                "from spotipy.oauth2 import SpotifyClientCredentials\n",
                "\n",
                "# load the .env file variables\n",
                "load_dotenv()\n"
            ]
        },
        {
            "cell_type": "code",
            "execution_count": 2,
            "metadata": {},
            "outputs": [],
            "source": [
                "client_id = os.environ.get(\"CLIENT_ID\")\n",
                "client_secret = os.environ.get(\"CLIENT_SECRET\")"
            ]
        },
        {
            "cell_type": "code",
            "execution_count": 3,
            "metadata": {},
            "outputs": [],
            "source": [
                "my_api = spotipy.Spotify(auth_manager=SpotifyClientCredentials(client_id = client_id,client_secret = client_secret))"
            ]
        },
        {
            "cell_type": "code",
            "execution_count": null,
            "metadata": {},
            "outputs": [
                {
                    "name": "stdout",
                    "output_type": "stream",
                    "text": [
                        "                              name  popularity  duration_ms\n",
                        "9                      Blank Space          79       231826\n",
                        "8                        Anti-Hero          81       200690\n",
                        "2  I Can Do It With a Broken Heart          82       218004\n"
                    ]
                },
                {
                    "data": {
                        "text/plain": [
                            "<Axes: xlabel='duration_ms', ylabel='popularity'>"
                        ]
                    },
                    "execution_count": 16,
                    "metadata": {},
                    "output_type": "execute_result"
                },
                {
                    "data": {
                        "image/png": "[encoded data removed]",
                        "text/plain": [
                            "<Figure size 640x480 with 1 Axes>"
                        ]
                    },
                    "metadata": {},
                    "output_type": "display_data"
                }
            ],
            "source": [
                "results = my_api.artist_top_tracks(artist_id=\"06HL4z0CvFAxyc27GXpf02\")\n",
                "\n",
                "taylor_dict = {\"name\": [track['name'] for track in results['tracks'][:10]], \"popularity\": [track['popularity'] for track in results['tracks'][:10]], \"duration_ms\": [track['duration_ms'] for track in results['tracks'][:10]]}\n",
                "\n",
                "df = pd.DataFrame.from_dict(taylor_dict)\n",
                "\n",
                "top_3 = df.sort_values(by='popularity')[0:3]\n",
                "\n",
                "print(top_3)\n",
                "\n",
                "sns.scatterplot(data=df, x=\"duration_ms\", y=\"popularity\")\n",
                "\n",
                "#Se puede observar que no hay relacción entre la duración del track y su popularidad\n",
                "\n"
            ]
        }
    ],
    "metadata": {
        "kernelspec": {
            "display_name": "Python 3",
            "language": "python",
            "name": "python3"
        },
        "language_info": {
            "codemirror_mode": {
                "name": "ipython",
                "version": 3
            },
            "file_extension": ".py",
            "mimetype": "text/x-python",
            "name": "python",
            "nbconvert_exporter": "python",
            "pygments_lexer": "ipython3",
            "version": "3.11.4"
        },
        "orig_nbformat": 4
    },
    "nbformat": 4,
    "nbformat_minor": 2
}
